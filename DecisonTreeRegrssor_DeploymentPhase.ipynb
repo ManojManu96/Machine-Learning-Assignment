{
 "cells": [
  {
   "cell_type": "code",
   "execution_count": 1,
   "id": "1e01bb5e-a24f-4476-9f78-303106488ac2",
   "metadata": {},
   "outputs": [],
   "source": [
    "import pickle"
   ]
  },
  {
   "cell_type": "code",
   "execution_count": 3,
   "id": "bea254fa-4326-41a3-b5da-dd67b6ce27be",
   "metadata": {},
   "outputs": [
    {
     "name": "stderr",
     "output_type": "stream",
     "text": [
      "C:\\Users\\ManojGowdru\\anaconda3\\Lib\\site-packages\\sklearn\\base.py:493: UserWarning: X does not have valid feature names, but DecisionTreeRegressor was fitted with feature names\n",
      "  warnings.warn(\n"
     ]
    }
   ],
   "source": [
    "loaded_model=pickle.load(open(\"finalised_model_DecisionTreeRegressor.sav\",'rb'))\n",
    "result=loaded_model.predict([[25000,12000,15000,1,0]])"
   ]
  },
  {
   "cell_type": "code",
   "execution_count": 5,
   "id": "05903e9e-060f-49b9-a699-1127feaf9081",
   "metadata": {},
   "outputs": [
    {
     "data": {
      "text/plain": [
       "array([35673.41])"
      ]
     },
     "execution_count": 5,
     "metadata": {},
     "output_type": "execute_result"
    }
   ],
   "source": [
    "result"
   ]
  },
  {
   "cell_type": "code",
   "execution_count": null,
   "id": "5f43fe79-2c5b-4462-9387-9d70745d9056",
   "metadata": {},
   "outputs": [],
   "source": []
  }
 ],
 "metadata": {
  "kernelspec": {
   "display_name": "Python 3 (ipykernel)",
   "language": "python",
   "name": "python3"
  },
  "language_info": {
   "codemirror_mode": {
    "name": "ipython",
    "version": 3
   },
   "file_extension": ".py",
   "mimetype": "text/x-python",
   "name": "python",
   "nbconvert_exporter": "python",
   "pygments_lexer": "ipython3",
   "version": "3.12.4"
  }
 },
 "nbformat": 4,
 "nbformat_minor": 5
}
