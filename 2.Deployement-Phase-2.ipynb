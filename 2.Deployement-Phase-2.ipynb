{
 "cells": [
  {
   "cell_type": "code",
   "execution_count": 13,
   "id": "2d4c158c-4175-4b3f-963b-5e7027f471e7",
   "metadata": {},
   "outputs": [
    {
     "name": "stderr",
     "output_type": "stream",
     "text": [
      "C:\\Users\\ManojGowdru\\anaconda3\\Lib\\site-packages\\sklearn\\base.py:493: UserWarning: X does not have valid feature names, but LinearRegression was fitted with feature names\n",
      "  warnings.warn(\n"
     ]
    }
   ],
   "source": [
    "import pickle\n",
    "loaded_model=pickle.load(open(\"finalized_model_linear.sav\",'rb'))\n",
    "result=loaded_model.predict([[0]])"
   ]
  },
  {
   "cell_type": "code",
   "execution_count": 7,
   "id": "c94176bf-579d-4d40-8fa5-d152c9ae6e75",
   "metadata": {},
   "outputs": [
    {
     "data": {
      "text/plain": [
       "array([[119240.02025558]])"
      ]
     },
     "execution_count": 7,
     "metadata": {},
     "output_type": "execute_result"
    }
   ],
   "source": [
    "# 15 years of experience salary\n",
    "result"
   ]
  },
  {
   "cell_type": "code",
   "execution_count": 11,
   "id": "8cc7ec00-6166-4f86-aeac-89c836fe568e",
   "metadata": {},
   "outputs": [
    {
     "data": {
      "text/plain": [
       "array([[108064.26562577]])"
      ]
     },
     "execution_count": 11,
     "metadata": {},
     "output_type": "execute_result"
    }
   ],
   "source": [
    "# 13 years of experience salary\n",
    "result"
   ]
  },
  {
   "cell_type": "code",
   "execution_count": 15,
   "id": "39cb7f45-5bca-4237-9bc3-184f3e2b227c",
   "metadata": {},
   "outputs": [
    {
     "data": {
      "text/plain": [
       "array([[35421.86053197]])"
      ]
     },
     "execution_count": 15,
     "metadata": {},
     "output_type": "execute_result"
    }
   ],
   "source": [
    "# zero years of experience salary,here orign,bias, intercept, starting point, are different names same meaning\n",
    "result\n"
   ]
  },
  {
   "cell_type": "code",
   "execution_count": null,
   "id": "e2af8e14-368d-487a-aba9-25191e67932a",
   "metadata": {},
   "outputs": [],
   "source": []
  }
 ],
 "metadata": {
  "kernelspec": {
   "display_name": "Python 3 (ipykernel)",
   "language": "python",
   "name": "python3"
  },
  "language_info": {
   "codemirror_mode": {
    "name": "ipython",
    "version": 3
   },
   "file_extension": ".py",
   "mimetype": "text/x-python",
   "name": "python",
   "nbconvert_exporter": "python",
   "pygments_lexer": "ipython3",
   "version": "3.12.4"
  }
 },
 "nbformat": 4,
 "nbformat_minor": 5
}
